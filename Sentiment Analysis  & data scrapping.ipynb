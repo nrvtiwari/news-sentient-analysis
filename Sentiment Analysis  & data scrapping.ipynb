{
 "cells": [
  {
   "cell_type": "code",
   "execution_count": 1,
   "metadata": {},
   "outputs": [],
   "source": [
    "import numpy as np \n",
    "import pandas as pd\n",
    "import matplotlib.pyplot as plt \n",
    "import seaborn as sns\n",
    "sns.set()\n",
    "from bs4 import BeautifulSoup\n",
    "import requests \n",
    "import os\n",
    "%matplotlib inline"
   ]
  },
  {
   "cell_type": "code",
   "execution_count": 2,
   "metadata": {},
   "outputs": [],
   "source": [
    "urls_list = ['https://inshorts.com/en/read/world' ,\n",
    "            'https://inshorts.com/en/read/india' ,\n",
    "            'https://inshorts.com/en/read/sports' , \n",
    "            'https://inshorts.com/en/read/business']\n",
    "## getting the url  of the news section for which we will collect data to analyse"
   ]
  },
  {
   "cell_type": "code",
   "execution_count": 3,
   "metadata": {},
   "outputs": [],
   "source": [
    "def datasetprepare(urls_list):\n",
    "    news_data = []\n",
    "    for url in urls_list:\n",
    "        news_category = url.split('/')[-1] # category of news\n",
    "        data = requests.get(url) ## article\n",
    "        soup = BeautifulSoup(data.content , 'html.parser')\n",
    "        news_articles = [{'news_headline' : headline.find('span' ,attrs = {\"itemprop\" : \"headline\"}).string,\n",
    "                         'news_article' : article.find('div' ,attrs = {\"itemprop\" : \"articleBody\"}).string , \n",
    "                         'news_category' : news_category}\n",
    "                        for headline , article in\n",
    "                        zip(soup.find_all('div' , class_ = [\"news-card-title news-right-box\"]),\n",
    "                          soup.find_all('div' , class_ = [\"news-card-content news-right-box\"]))\n",
    "                        ]\n",
    "        news_data.extend(news_articles)\n",
    "    df = pd.DataFrame(news_data)\n",
    "    df = df[['news_headline' , 'news_article' , 'news_category']]\n",
    "    return df\n",
    "        "
   ]
  },
  {
   "cell_type": "code",
   "execution_count": 6,
   "metadata": {},
   "outputs": [],
   "source": [
    "news_df = datasetprepare(urls_list)  ### here we fot our news into our data frame \n"
   ]
  },
  {
   "cell_type": "code",
   "execution_count": 7,
   "metadata": {},
   "outputs": [
    {
     "name": "stdout",
     "output_type": "stream",
     "text": [
      "<class 'pandas.core.frame.DataFrame'>\n",
      "RangeIndex: 87 entries, 0 to 86\n",
      "Data columns (total 3 columns):\n",
      "news_headline    87 non-null object\n",
      "news_article     87 non-null object\n",
      "news_category    87 non-null object\n",
      "dtypes: object(3)\n",
      "memory usage: 2.2+ KB\n"
     ]
    }
   ],
   "source": [
    "news_df.info()\n",
    "## here we got 87 rows "
   ]
  },
  {
   "cell_type": "code",
   "execution_count": 8,
   "metadata": {},
   "outputs": [
    {
     "data": {
      "text/html": [
       "<div>\n",
       "<style scoped>\n",
       "    .dataframe tbody tr th:only-of-type {\n",
       "        vertical-align: middle;\n",
       "    }\n",
       "\n",
       "    .dataframe tbody tr th {\n",
       "        vertical-align: top;\n",
       "    }\n",
       "\n",
       "    .dataframe thead th {\n",
       "        text-align: right;\n",
       "    }\n",
       "</style>\n",
       "<table border=\"1\" class=\"dataframe\">\n",
       "  <thead>\n",
       "    <tr style=\"text-align: right;\">\n",
       "      <th></th>\n",
       "      <th>news_headline</th>\n",
       "      <th>news_article</th>\n",
       "      <th>news_category</th>\n",
       "    </tr>\n",
       "  </thead>\n",
       "  <tbody>\n",
       "    <tr>\n",
       "      <td>0</td>\n",
       "      <td>Which countries have stopped AstraZeneca's COV...</td>\n",
       "      <td>Over 20 countries have suspended the use of As...</td>\n",
       "      <td>world</td>\n",
       "    </tr>\n",
       "    <tr>\n",
       "      <td>1</td>\n",
       "      <td>New coronavirus variant found in France</td>\n",
       "      <td>A new coronavirus variant has been found in th...</td>\n",
       "      <td>world</td>\n",
       "    </tr>\n",
       "    <tr>\n",
       "      <td>2</td>\n",
       "      <td>Facebook to pay Rupert Murdoch's News Corp for...</td>\n",
       "      <td>Facebook has reached a three-year deal to pay ...</td>\n",
       "      <td>world</td>\n",
       "    </tr>\n",
       "    <tr>\n",
       "      <td>3</td>\n",
       "      <td>Japanese govt employees punished with pay cut ...</td>\n",
       "      <td>A number of Japanese government employees at t...</td>\n",
       "      <td>world</td>\n",
       "    </tr>\n",
       "    <tr>\n",
       "      <td>4</td>\n",
       "      <td>'Amityville Horror' convicted killer dies aged...</td>\n",
       "      <td>Ronald DeFeo, the convicted killer who murdere...</td>\n",
       "      <td>world</td>\n",
       "    </tr>\n",
       "  </tbody>\n",
       "</table>\n",
       "</div>"
      ],
      "text/plain": [
       "                                       news_headline  \\\n",
       "0  Which countries have stopped AstraZeneca's COV...   \n",
       "1            New coronavirus variant found in France   \n",
       "2  Facebook to pay Rupert Murdoch's News Corp for...   \n",
       "3  Japanese govt employees punished with pay cut ...   \n",
       "4  'Amityville Horror' convicted killer dies aged...   \n",
       "\n",
       "                                        news_article news_category  \n",
       "0  Over 20 countries have suspended the use of As...         world  \n",
       "1  A new coronavirus variant has been found in th...         world  \n",
       "2  Facebook has reached a three-year deal to pay ...         world  \n",
       "3  A number of Japanese government employees at t...         world  \n",
       "4  Ronald DeFeo, the convicted killer who murdere...         world  "
      ]
     },
     "execution_count": 8,
     "metadata": {},
     "output_type": "execute_result"
    }
   ],
   "source": [
    "## lets checkout our Dataset\n",
    "news_df.head(5)\n"
   ]
  },
  {
   "cell_type": "code",
   "execution_count": 9,
   "metadata": {},
   "outputs": [
    {
     "data": {
      "text/plain": [
       "12"
      ]
     },
     "execution_count": 9,
     "metadata": {},
     "output_type": "execute_result"
    }
   ],
   "source": [
    "news_df[news_df['news_category']== 'india']['news_headline'].count()\n",
    "## we got 12 news from india"
   ]
  },
  {
   "cell_type": "code",
   "execution_count": 10,
   "metadata": {},
   "outputs": [
    {
     "data": {
      "text/plain": [
       "25    Afghanistan wins SAFF title, spoils India's ha...\n",
       "26       Zimbabwe players ask India for cricketing tips\n",
       "27    Nigerian weightlifter in dope net, India may gain\n",
       "28      Samsung launches Galaxy Star 2 Plus at Rs.7,335\n",
       "29    Indian Navy gets VLF, easy communication with ...\n",
       "30                    Oldest woman in India passes away\n",
       "31    AAP drops Rajouri Garden candidate, a week bef...\n",
       "32                    Kashmir's famous Dal Lake freezes\n",
       "33                    Bharti Airtel rakes in 61% profit\n",
       "34         India beat NZ 3-2 to enter CWG hockey finals\n",
       "35               India's first Billiards Premier League\n",
       "36            Infosys Gifts Sikka Shares Worth Rs 8.2cr\n",
       "Name: news_headline, dtype: object"
      ]
     },
     "execution_count": 10,
     "metadata": {},
     "output_type": "execute_result"
    }
   ],
   "source": [
    "news_df[news_df['news_category']== 'india']['news_headline']"
   ]
  },
  {
   "cell_type": "code",
   "execution_count": 11,
   "metadata": {},
   "outputs": [
    {
     "data": {
      "text/plain": [
       "sports      25\n",
       "world       25\n",
       "business    25\n",
       "india       12\n",
       "Name: news_category, dtype: int64"
      ]
     },
     "execution_count": 11,
     "metadata": {},
     "output_type": "execute_result"
    }
   ],
   "source": [
    "## lets check out the number of news  in each  category \n",
    "news_df .news_category.value_counts()"
   ]
  },
  {
   "cell_type": "markdown",
   "metadata": {},
   "source": [
    "## Text Wrangling and Pre- processing "
   ]
  },
  {
   "cell_type": "code",
   "execution_count": 12,
   "metadata": {},
   "outputs": [],
   "source": [
    "import spacy\n",
    "import nltk \n",
    "## spacy is the library for text wrangling which is build upon nltk \n",
    "from nltk .tokenize.toktok import ToktokTokenizer\n",
    "import re # regular expression\n",
    "import unicodedata\n",
    "## it is defined by incode Standard Annex \n",
    "# which defines  the character properties for all \n",
    "# unicode characters "
   ]
  },
  {
   "cell_type": "code",
   "execution_count": 13,
   "metadata": {},
   "outputs": [],
   "source": [
    "## now creating the stop word list and  using this list we will \n",
    "# eliminate the words which are occuring most frequently \n",
    "\n",
    "tokenizer = ToktokTokenizer()\n",
    "stopword_list = nltk.corpus.stopwords.words('english')\n",
    "stopword_list.remove('no')\n",
    "stopword_list.remove('not')\n",
    "## no , not can not be treated as regular stop words as we are\n",
    "# analysing news , and these cant be treated as regular stopwords\n",
    " "
   ]
  },
  {
   "cell_type": "code",
   "execution_count": 14,
   "metadata": {},
   "outputs": [
    {
     "data": {
      "text/plain": [
       "['i',\n",
       " 'me',\n",
       " 'my',\n",
       " 'myself',\n",
       " 'we',\n",
       " 'our',\n",
       " 'ours',\n",
       " 'ourselves',\n",
       " 'you',\n",
       " \"you're\",\n",
       " \"you've\",\n",
       " \"you'll\",\n",
       " \"you'd\",\n",
       " 'your',\n",
       " 'yours',\n",
       " 'yourself',\n",
       " 'yourselves',\n",
       " 'he',\n",
       " 'him',\n",
       " 'his',\n",
       " 'himself',\n",
       " 'she',\n",
       " \"she's\",\n",
       " 'her',\n",
       " 'hers',\n",
       " 'herself',\n",
       " 'it',\n",
       " \"it's\",\n",
       " 'its',\n",
       " 'itself',\n",
       " 'they',\n",
       " 'them',\n",
       " 'their',\n",
       " 'theirs',\n",
       " 'themselves',\n",
       " 'what',\n",
       " 'which',\n",
       " 'who',\n",
       " 'whom',\n",
       " 'this',\n",
       " 'that',\n",
       " \"that'll\",\n",
       " 'these',\n",
       " 'those',\n",
       " 'am',\n",
       " 'is',\n",
       " 'are',\n",
       " 'was',\n",
       " 'were',\n",
       " 'be',\n",
       " 'been',\n",
       " 'being',\n",
       " 'have',\n",
       " 'has',\n",
       " 'had',\n",
       " 'having',\n",
       " 'do',\n",
       " 'does',\n",
       " 'did',\n",
       " 'doing',\n",
       " 'a',\n",
       " 'an',\n",
       " 'the',\n",
       " 'and',\n",
       " 'but',\n",
       " 'if',\n",
       " 'or',\n",
       " 'because',\n",
       " 'as',\n",
       " 'until',\n",
       " 'while',\n",
       " 'of',\n",
       " 'at',\n",
       " 'by',\n",
       " 'for',\n",
       " 'with',\n",
       " 'about',\n",
       " 'against',\n",
       " 'between',\n",
       " 'into',\n",
       " 'through',\n",
       " 'during',\n",
       " 'before',\n",
       " 'after',\n",
       " 'above',\n",
       " 'below',\n",
       " 'to',\n",
       " 'from',\n",
       " 'up',\n",
       " 'down',\n",
       " 'in',\n",
       " 'out',\n",
       " 'on',\n",
       " 'off',\n",
       " 'over',\n",
       " 'under',\n",
       " 'again',\n",
       " 'further',\n",
       " 'then',\n",
       " 'once',\n",
       " 'here',\n",
       " 'there',\n",
       " 'when',\n",
       " 'where',\n",
       " 'why',\n",
       " 'how',\n",
       " 'all',\n",
       " 'any',\n",
       " 'both',\n",
       " 'each',\n",
       " 'few',\n",
       " 'more',\n",
       " 'most',\n",
       " 'other',\n",
       " 'some',\n",
       " 'such',\n",
       " 'nor',\n",
       " 'only',\n",
       " 'own',\n",
       " 'same',\n",
       " 'so',\n",
       " 'than',\n",
       " 'too',\n",
       " 'very',\n",
       " 's',\n",
       " 't',\n",
       " 'can',\n",
       " 'will',\n",
       " 'just',\n",
       " 'don',\n",
       " \"don't\",\n",
       " 'should',\n",
       " \"should've\",\n",
       " 'now',\n",
       " 'd',\n",
       " 'll',\n",
       " 'm',\n",
       " 'o',\n",
       " 're',\n",
       " 've',\n",
       " 'y',\n",
       " 'ain',\n",
       " 'aren',\n",
       " \"aren't\",\n",
       " 'couldn',\n",
       " \"couldn't\",\n",
       " 'didn',\n",
       " \"didn't\",\n",
       " 'doesn',\n",
       " \"doesn't\",\n",
       " 'hadn',\n",
       " \"hadn't\",\n",
       " 'hasn',\n",
       " \"hasn't\",\n",
       " 'haven',\n",
       " \"haven't\",\n",
       " 'isn',\n",
       " \"isn't\",\n",
       " 'ma',\n",
       " 'mightn',\n",
       " \"mightn't\",\n",
       " 'mustn',\n",
       " \"mustn't\",\n",
       " 'needn',\n",
       " \"needn't\",\n",
       " 'shan',\n",
       " \"shan't\",\n",
       " 'shouldn',\n",
       " \"shouldn't\",\n",
       " 'wasn',\n",
       " \"wasn't\",\n",
       " 'weren',\n",
       " \"weren't\",\n",
       " 'won',\n",
       " \"won't\",\n",
       " 'wouldn',\n",
       " \"wouldn't\"]"
      ]
     },
     "execution_count": 14,
     "metadata": {},
     "output_type": "execute_result"
    }
   ],
   "source": [
    "stopword_list ## these are our stopword list"
   ]
  },
  {
   "cell_type": "markdown",
   "metadata": {},
   "source": [
    "## Removal HTML tags"
   ]
  },
  {
   "cell_type": "code",
   "execution_count": 15,
   "metadata": {},
   "outputs": [
    {
     "name": "stdout",
     "output_type": "stream",
     "text": [
      "Collecting spacy==2.3.5\n",
      "  Using cached spacy-2.3.5-cp37-cp37m-win_amd64.whl (9.5 MB)\n",
      "Requirement already satisfied: cymem<2.1.0,>=2.0.2 in c:\\programdata\\anaconda3\\lib\\site-packages (from spacy==2.3.5) (2.0.5)\n",
      "Collecting srsly<1.1.0,>=1.0.2\n",
      "  Using cached srsly-1.0.5-cp37-cp37m-win_amd64.whl (176 kB)\n",
      "Requirement already satisfied: numpy>=1.15.0 in c:\\programdata\\anaconda3\\lib\\site-packages (from spacy==2.3.5) (1.19.1)\n",
      "Requirement already satisfied: wasabi<1.1.0,>=0.4.0 in c:\\programdata\\anaconda3\\lib\\site-packages (from spacy==2.3.5) (0.8.2)\n",
      "Requirement already satisfied: preshed<3.1.0,>=3.0.2 in c:\\programdata\\anaconda3\\lib\\site-packages (from spacy==2.3.5) (3.0.5)\n",
      "Requirement already satisfied: murmurhash<1.1.0,>=0.28.0 in c:\\programdata\\anaconda3\\lib\\site-packages (from spacy==2.3.5) (1.0.5)\n",
      "Requirement already satisfied: blis<0.8.0,>=0.4.0 in c:\\programdata\\anaconda3\\lib\\site-packages (from spacy==2.3.5) (0.7.4)\n",
      "Collecting catalogue<1.1.0,>=0.0.7\n",
      "  Using cached catalogue-1.0.0-py2.py3-none-any.whl (7.7 kB)\n",
      "Requirement already satisfied: tqdm<5.0.0,>=4.38.0 in c:\\programdata\\anaconda3\\lib\\site-packages (from spacy==2.3.5) (4.59.0)\n",
      "Requirement already satisfied: plac<1.2.0,>=0.9.6 in c:\\programdata\\anaconda3\\lib\\site-packages (from spacy==2.3.5) (1.1.3)\n",
      "Requirement already satisfied: setuptools in c:\\programdata\\anaconda3\\lib\\site-packages (from spacy==2.3.5) (49.2.1)\n",
      "Requirement already satisfied: requests<3.0.0,>=2.13.0 in c:\\programdata\\anaconda3\\lib\\site-packages (from spacy==2.3.5) (2.22.0)\n",
      "Collecting thinc<7.5.0,>=7.4.1\n",
      "  Using cached thinc-7.4.5-cp37-cp37m-win_amd64.whl (888 kB)\n",
      "Requirement already satisfied: importlib-metadata>=0.20 in c:\\programdata\\anaconda3\\lib\\site-packages (from catalogue<1.1.0,>=0.0.7->spacy==2.3.5) (0.23)\n",
      "Requirement already satisfied: zipp>=0.5 in c:\\programdata\\anaconda3\\lib\\site-packages (from importlib-metadata>=0.20->catalogue<1.1.0,>=0.0.7->spacy==2.3.5) (0.6.0)\n",
      "Requirement already satisfied: idna<2.9,>=2.5 in c:\\programdata\\anaconda3\\lib\\site-packages (from requests<3.0.0,>=2.13.0->spacy==2.3.5) (2.8)\n",
      "Requirement already satisfied: urllib3!=1.25.0,!=1.25.1,<1.26,>=1.21.1 in c:\\programdata\\anaconda3\\lib\\site-packages (from requests<3.0.0,>=2.13.0->spacy==2.3.5) (1.24.2)\n",
      "Requirement already satisfied: certifi>=2017.4.17 in c:\\programdata\\anaconda3\\lib\\site-packages (from requests<3.0.0,>=2.13.0->spacy==2.3.5) (2019.9.11)\n",
      "Requirement already satisfied: chardet<3.1.0,>=3.0.2 in c:\\programdata\\anaconda3\\lib\\site-packages (from requests<3.0.0,>=2.13.0->spacy==2.3.5) (3.0.4)\n",
      "Requirement already satisfied: more-itertools in c:\\programdata\\anaconda3\\lib\\site-packages (from zipp>=0.5->importlib-metadata>=0.20->catalogue<1.1.0,>=0.0.7->spacy==2.3.5) (7.2.0)\n",
      "Installing collected packages: srsly, catalogue, thinc, spacy\n",
      "  Attempting uninstall: srsly\n",
      "    Found existing installation: srsly 2.4.0\n",
      "    Uninstalling srsly-2.4.0:\n"
     ]
    },
    {
     "name": "stderr",
     "output_type": "stream",
     "text": [
      "ERROR: Could not install packages due to an OSError: [WinError 5] Access is denied: 'c:\\\\programdata\\\\anaconda3\\\\lib\\\\site-packages\\\\srsly-2.4.0.dist-info\\\\entry_points.txt'\n",
      "Consider using the `--user` option or check the permissions.\n",
      "\n"
     ]
    }
   ],
   "source": [
    "##!pip install spacy==2.3.5"
   ]
  },
  {
   "cell_type": "code",
   "execution_count": null,
   "metadata": {},
   "outputs": [],
   "source": []
  },
  {
   "cell_type": "code",
   "execution_count": 16,
   "metadata": {},
   "outputs": [],
   "source": [
    "# we often see the links inside the news articles , hence its necessay to remve these html tags"
   ]
  },
  {
   "cell_type": "code",
   "execution_count": 17,
   "metadata": {},
   "outputs": [
    {
     "data": {
      "text/plain": [
       "'Some important text '"
      ]
     },
     "execution_count": 17,
     "metadata": {},
     "output_type": "execute_result"
    }
   ],
   "source": [
    "def strip_html_tags(text):\n",
    "    soup  = BeautifulSoup(text , \"html.parser\")\n",
    "    stripped_text = soup.get_text()\n",
    "    return stripped_text\n",
    "## exapmle\n",
    "strip_html_tags('<html><h2>Some important text </h2></html>')"
   ]
  },
  {
   "cell_type": "markdown",
   "metadata": {},
   "source": [
    "## Removal accdented character "
   ]
  },
  {
   "cell_type": "code",
   "execution_count": 18,
   "metadata": {},
   "outputs": [
    {
     "data": {
      "text/plain": [
       "'some Accented text'"
      ]
     },
     "execution_count": 18,
     "metadata": {},
     "output_type": "execute_result"
    }
   ],
   "source": [
    "## sometime we look at accented character like some french character \n",
    "def remove_accented_chars(text):\n",
    "    \n",
    "    \n",
    "    text = unicodedata.normalize(\"NFKD\" , text ).encode('ascii' , 'ignore').decode('utf-8' , 'ignore')\n",
    "    return text\n",
    "## lets check the function \n",
    "remove_accented_chars('śōṁē Āccented ṭēxṭ')"
   ]
  },
  {
   "cell_type": "markdown",
   "metadata": {},
   "source": [
    "## Removal of special character"
   ]
  },
  {
   "cell_type": "code",
   "execution_count": 19,
   "metadata": {},
   "outputs": [],
   "source": [
    "## now with the help of  regular wxpression we will remove special character"
   ]
  },
  {
   "cell_type": "code",
   "execution_count": 20,
   "metadata": {},
   "outputs": [],
   "source": [
    "def remove_special_characters(text  , remove_digits = False):\n",
    "    pattern = r'[^a-zA-z0-9\\s]' if not remove_digits else r'[^a-zA-z\\s]'\n",
    "    text = re.sub(pattern , '' , text )\n",
    "    return text"
   ]
  },
  {
   "cell_type": "code",
   "execution_count": 21,
   "metadata": {},
   "outputs": [
    {
     "data": {
      "text/plain": [
       "'Well this was fun What do you think '"
      ]
     },
     "execution_count": 21,
     "metadata": {},
     "output_type": "execute_result"
    }
   ],
   "source": [
    "remove_special_characters(\"Well this was fun! What do you think? 123#@!\", remove_digits=True)"
   ]
  },
  {
   "cell_type": "markdown",
   "metadata": {},
   "source": [
    "## Text lemmatization"
   ]
  },
  {
   "cell_type": "code",
   "execution_count": 22,
   "metadata": {},
   "outputs": [],
   "source": [
    "## LEMMATIZATION \n",
    "# PROCESS OF FINDING THE ROOT WORD WITH THEIR  DICTIONARY MEANING"
   ]
  },
  {
   "cell_type": "code",
   "execution_count": 23,
   "metadata": {},
   "outputs": [],
   "source": [
    "nlp = spacy.load(\"en_core_web_sm\")"
   ]
  },
  {
   "cell_type": "code",
   "execution_count": 24,
   "metadata": {},
   "outputs": [],
   "source": [
    "def lemmatize_text(text):\n",
    "    text = nlp(text)\n",
    "    text = ' '.join([word.lemma_ if word.lemma_ != '-PRON-' else word.text for word in text ])\n",
    "    return text "
   ]
  },
  {
   "cell_type": "code",
   "execution_count": 25,
   "metadata": {},
   "outputs": [
    {
     "data": {
      "text/plain": [
       "'my system keep crash ! his crashed yesterday , ours crash daily'"
      ]
     },
     "execution_count": 25,
     "metadata": {},
     "output_type": "execute_result"
    }
   ],
   "source": [
    "lemmatize_text(\"My system keeps crashing! his crashed yesterday, ours crashes daily\")"
   ]
  },
  {
   "cell_type": "markdown",
   "metadata": {},
   "source": [
    "## Remove Stopwords"
   ]
  },
  {
   "cell_type": "code",
   "execution_count": 26,
   "metadata": {},
   "outputs": [
    {
     "data": {
      "text/plain": [
       "', , stopwords , computer not'"
      ]
     },
     "execution_count": 26,
     "metadata": {},
     "output_type": "execute_result"
    }
   ],
   "source": [
    "def remove_stopwords(text  , is_lower_case = False):\n",
    "    tokens = tokenizer.tokenize(text)\n",
    "    tokens = [token.strip() for token in tokens ]\n",
    "    if is_lower_case :\n",
    "        filtered_tokens = [token for token in tokens if token not in stopword_list]\n",
    "    else :\n",
    "        filtered_tokens = [token for token  in tokens if token.lower() not in stopword_list]\n",
    "    filtered_text  = ' '.join (filtered_tokens)\n",
    "    return filtered_text\n",
    "## lets check our function \n",
    "remove_stopwords(\"The, and, if are stopwords, computer is not\")"
   ]
  },
  {
   "cell_type": "markdown",
   "metadata": {},
   "source": [
    "## Building a text Normalizer \n"
   ]
  },
  {
   "cell_type": "code",
   "execution_count": 27,
   "metadata": {},
   "outputs": [],
   "source": [
    "## here we are bulding a funtion  which can do all the preprocessing ina single step \n",
    "## we will  be calling out multiple function inside this function "
   ]
  },
  {
   "cell_type": "code",
   "execution_count": 28,
   "metadata": {},
   "outputs": [],
   "source": [
    "def normalize_corpus(corpus , html_stripping =True , contraction_expansion = True ,\n",
    "                    accented_char_removal = True , text_lower_case = True ,\n",
    "                    text_lemmatization = True , special_char_removal = True ,\n",
    "                    stopword_removal = True , remove_digits = True ):\n",
    "    normalized_corpus = []\n",
    "    #normalizing ezch document in the corpus\n",
    "    for doc in corpus:\n",
    "        # strip HTML\n",
    "        if html_stripping:\n",
    "            doc = strip_html_tags(doc)\n",
    "        # remove accented characters\n",
    "        if accented_char_removal:\n",
    "            doc = remove_accented_chars(doc)\n",
    "        #lowercase the text\n",
    "        if text_lower_case :\n",
    "            doc = doc.lower()\n",
    "        #removing extra newlines \n",
    "        doc = re.sub(r'[\\r|\\n|\\r\\n]+' , ' ', doc)\n",
    "        #lemmatize text , converting to root word\n",
    "        if text_lemmatization:\n",
    "            doc = lemmatize_text(doc)\n",
    "        # remove special characters and \\or digits\n",
    "        if special_char_removal:\n",
    "            \n",
    "            # insert spaces between special characters and \\ or digits\n",
    "            special_char_pattern = re.compile(r'([{.(-)!}])')\n",
    "            doc = special_char_pattern.sub('\\\\1' , doc)\n",
    "            doc = remove_special_characters(doc , remove_digits  = remove_digits)\n",
    "        # remove extra whitespace\n",
    "        doc = re.sub(' +' , ' ', doc)\n",
    "        #remove stopwords\n",
    "        if stopword_removal:\n",
    "            doc = remove_stopwords(doc , is_lower_case = text_lower_case)\n",
    "        normalized_corpus.append(doc)\n",
    "        \n",
    "    return normalized_corpus\n",
    "        \n",
    "        \n",
    "        "
   ]
  },
  {
   "cell_type": "markdown",
   "metadata": {},
   "source": [
    "## Pre-process and normalize news articles"
   ]
  },
  {
   "cell_type": "code",
   "execution_count": 29,
   "metadata": {},
   "outputs": [],
   "source": [
    "news_df['full_text'] = news_df[\"news_headline\"].map(str)+ '. ' + news_df[\"news_article\"]"
   ]
  },
  {
   "cell_type": "code",
   "execution_count": 30,
   "metadata": {},
   "outputs": [
    {
     "data": {
      "text/plain": [
       "{'full_text': 'New coronavirus variant found in France. A new coronavirus variant has been found in the French region of Brittany, said the French health ministry. It added that initial analysis did not show this new variant to be more serious or transmissible than others. The French health ministry said the new variant had been found in a cluster of cases in a hospital centre in Lannion.',\n",
       " 'clean_text': 'new coronavirus variant find france new coronavirus variant find french region brittany say french health ministry add initial analysis not show new variant serious transmissible french health ministry say new variant find cluster case hospital centre lannion'}"
      ]
     },
     "execution_count": 30,
     "metadata": {},
     "output_type": "execute_result"
    }
   ],
   "source": [
    "news_df['clean_text'] = normalize_corpus(news_df['full_text'])\n",
    "norm_corpus = list(news_df['clean_text'])\n",
    "news_df.iloc[1][['full_text', 'clean_text']].to_dict()"
   ]
  },
  {
   "cell_type": "code",
   "execution_count": 31,
   "metadata": {},
   "outputs": [
    {
     "data": {
      "text/html": [
       "<div>\n",
       "<style scoped>\n",
       "    .dataframe tbody tr th:only-of-type {\n",
       "        vertical-align: middle;\n",
       "    }\n",
       "\n",
       "    .dataframe tbody tr th {\n",
       "        vertical-align: top;\n",
       "    }\n",
       "\n",
       "    .dataframe thead th {\n",
       "        text-align: right;\n",
       "    }\n",
       "</style>\n",
       "<table border=\"1\" class=\"dataframe\">\n",
       "  <thead>\n",
       "    <tr style=\"text-align: right;\">\n",
       "      <th></th>\n",
       "      <th>news_headline</th>\n",
       "      <th>news_article</th>\n",
       "      <th>news_category</th>\n",
       "      <th>full_text</th>\n",
       "      <th>clean_text</th>\n",
       "    </tr>\n",
       "  </thead>\n",
       "  <tbody>\n",
       "    <tr>\n",
       "      <td>0</td>\n",
       "      <td>Which countries have stopped AstraZeneca's COV...</td>\n",
       "      <td>Over 20 countries have suspended the use of As...</td>\n",
       "      <td>world</td>\n",
       "      <td>Which countries have stopped AstraZeneca's COV...</td>\n",
       "      <td>country stop astrazeneca covid vaccine blood c...</td>\n",
       "    </tr>\n",
       "    <tr>\n",
       "      <td>1</td>\n",
       "      <td>New coronavirus variant found in France</td>\n",
       "      <td>A new coronavirus variant has been found in th...</td>\n",
       "      <td>world</td>\n",
       "      <td>New coronavirus variant found in France. A new...</td>\n",
       "      <td>new coronavirus variant find france new corona...</td>\n",
       "    </tr>\n",
       "    <tr>\n",
       "      <td>2</td>\n",
       "      <td>Facebook to pay Rupert Murdoch's News Corp for...</td>\n",
       "      <td>Facebook has reached a three-year deal to pay ...</td>\n",
       "      <td>world</td>\n",
       "      <td>Facebook to pay Rupert Murdoch's News Corp for...</td>\n",
       "      <td>facebook pay rupert murdoch news corp content ...</td>\n",
       "    </tr>\n",
       "    <tr>\n",
       "      <td>3</td>\n",
       "      <td>Japanese govt employees punished with pay cut ...</td>\n",
       "      <td>A number of Japanese government employees at t...</td>\n",
       "      <td>world</td>\n",
       "      <td>Japanese govt employees punished with pay cut ...</td>\n",
       "      <td>japanese govt employee punish pay cut leave wo...</td>\n",
       "    </tr>\n",
       "    <tr>\n",
       "      <td>4</td>\n",
       "      <td>'Amityville Horror' convicted killer dies aged...</td>\n",
       "      <td>Ronald DeFeo, the convicted killer who murdere...</td>\n",
       "      <td>world</td>\n",
       "      <td>'Amityville Horror' convicted killer dies aged...</td>\n",
       "      <td>amityville horror convict killer die aged cust...</td>\n",
       "    </tr>\n",
       "    <tr>\n",
       "      <td>...</td>\n",
       "      <td>...</td>\n",
       "      <td>...</td>\n",
       "      <td>...</td>\n",
       "      <td>...</td>\n",
       "      <td>...</td>\n",
       "    </tr>\n",
       "    <tr>\n",
       "      <td>82</td>\n",
       "      <td>PhonePe increases lead over Google Pay with 42...</td>\n",
       "      <td>As per data released by the National Payments ...</td>\n",
       "      <td>business</td>\n",
       "      <td>PhonePe increases lead over Google Pay with 42...</td>\n",
       "      <td>phonepe increase lead google pay upi market sh...</td>\n",
       "    </tr>\n",
       "    <tr>\n",
       "      <td>83</td>\n",
       "      <td>Govt releases entire ₹1.10 lakh cr estimated G...</td>\n",
       "      <td>Finance Ministry on Monday released the 20th i...</td>\n",
       "      <td>business</td>\n",
       "      <td>Govt releases entire ₹1.10 lakh cr estimated G...</td>\n",
       "      <td>govt release entire lakh cr estimate gst short...</td>\n",
       "    </tr>\n",
       "    <tr>\n",
       "      <td>84</td>\n",
       "      <td>Protests outside POSCO's Maharashtra steel pla...</td>\n",
       "      <td>Protests outside South Korean steelmaker POSCO...</td>\n",
       "      <td>business</td>\n",
       "      <td>Protests outside POSCO's Maharashtra steel pla...</td>\n",
       "      <td>protest outside posco maharashtra steel plant ...</td>\n",
       "    </tr>\n",
       "    <tr>\n",
       "      <td>85</td>\n",
       "      <td>Indiabulls sells YES Bank Co-founder's Delhi p...</td>\n",
       "      <td>Indiabulls Housing Finance has sold a property...</td>\n",
       "      <td>business</td>\n",
       "      <td>Indiabulls sells YES Bank Co-founder's Delhi p...</td>\n",
       "      <td>indiabull sell yes bank co founder delhi prope...</td>\n",
       "    </tr>\n",
       "    <tr>\n",
       "      <td>86</td>\n",
       "      <td>RBI rejects YES Bank's proposal to set up ARC:...</td>\n",
       "      <td>The Reserve Bank of India (RBI) has reportedly...</td>\n",
       "      <td>business</td>\n",
       "      <td>RBI rejects YES Bank's proposal to set up ARC:...</td>\n",
       "      <td>rbi reject yes bank proposal set arc report re...</td>\n",
       "    </tr>\n",
       "  </tbody>\n",
       "</table>\n",
       "<p>87 rows × 5 columns</p>\n",
       "</div>"
      ],
      "text/plain": [
       "                                        news_headline  \\\n",
       "0   Which countries have stopped AstraZeneca's COV...   \n",
       "1             New coronavirus variant found in France   \n",
       "2   Facebook to pay Rupert Murdoch's News Corp for...   \n",
       "3   Japanese govt employees punished with pay cut ...   \n",
       "4   'Amityville Horror' convicted killer dies aged...   \n",
       "..                                                ...   \n",
       "82  PhonePe increases lead over Google Pay with 42...   \n",
       "83  Govt releases entire ₹1.10 lakh cr estimated G...   \n",
       "84  Protests outside POSCO's Maharashtra steel pla...   \n",
       "85  Indiabulls sells YES Bank Co-founder's Delhi p...   \n",
       "86  RBI rejects YES Bank's proposal to set up ARC:...   \n",
       "\n",
       "                                         news_article news_category  \\\n",
       "0   Over 20 countries have suspended the use of As...         world   \n",
       "1   A new coronavirus variant has been found in th...         world   \n",
       "2   Facebook has reached a three-year deal to pay ...         world   \n",
       "3   A number of Japanese government employees at t...         world   \n",
       "4   Ronald DeFeo, the convicted killer who murdere...         world   \n",
       "..                                                ...           ...   \n",
       "82  As per data released by the National Payments ...      business   \n",
       "83  Finance Ministry on Monday released the 20th i...      business   \n",
       "84  Protests outside South Korean steelmaker POSCO...      business   \n",
       "85  Indiabulls Housing Finance has sold a property...      business   \n",
       "86  The Reserve Bank of India (RBI) has reportedly...      business   \n",
       "\n",
       "                                            full_text  \\\n",
       "0   Which countries have stopped AstraZeneca's COV...   \n",
       "1   New coronavirus variant found in France. A new...   \n",
       "2   Facebook to pay Rupert Murdoch's News Corp for...   \n",
       "3   Japanese govt employees punished with pay cut ...   \n",
       "4   'Amityville Horror' convicted killer dies aged...   \n",
       "..                                                ...   \n",
       "82  PhonePe increases lead over Google Pay with 42...   \n",
       "83  Govt releases entire ₹1.10 lakh cr estimated G...   \n",
       "84  Protests outside POSCO's Maharashtra steel pla...   \n",
       "85  Indiabulls sells YES Bank Co-founder's Delhi p...   \n",
       "86  RBI rejects YES Bank's proposal to set up ARC:...   \n",
       "\n",
       "                                           clean_text  \n",
       "0   country stop astrazeneca covid vaccine blood c...  \n",
       "1   new coronavirus variant find france new corona...  \n",
       "2   facebook pay rupert murdoch news corp content ...  \n",
       "3   japanese govt employee punish pay cut leave wo...  \n",
       "4   amityville horror convict killer die aged cust...  \n",
       "..                                                ...  \n",
       "82  phonepe increase lead google pay upi market sh...  \n",
       "83  govt release entire lakh cr estimate gst short...  \n",
       "84  protest outside posco maharashtra steel plant ...  \n",
       "85  indiabull sell yes bank co founder delhi prope...  \n",
       "86  rbi reject yes bank proposal set arc report re...  \n",
       "\n",
       "[87 rows x 5 columns]"
      ]
     },
     "execution_count": 31,
     "metadata": {},
     "output_type": "execute_result"
    }
   ],
   "source": [
    "news_df"
   ]
  },
  {
   "cell_type": "markdown",
   "metadata": {},
   "source": [
    "## saving the news arrticles "
   ]
  },
  {
   "cell_type": "code",
   "execution_count": 32,
   "metadata": {},
   "outputs": [],
   "source": [
    "news_df.to_csv('news.csv' , index = False  ,  encoding = 'utf-8')"
   ]
  },
  {
   "cell_type": "markdown",
   "metadata": {},
   "source": [
    "## tagging part of speech "
   ]
  },
  {
   "cell_type": "code",
   "execution_count": 33,
   "metadata": {},
   "outputs": [],
   "source": [
    "news_df =  pd.read_csv('news.csv')"
   ]
  },
  {
   "cell_type": "code",
   "execution_count": 34,
   "metadata": {},
   "outputs": [],
   "source": [
    "corpus = normalize_corpus(news_df['full_text'] , text_lower_case = False ,\n",
    "                         text_lemmatization = False , special_char_removal = False)\n",
    "## this code is for crating the corpus  for sentiment analysis\n",
    "sentence = str(news_df.iloc[1] .news_headline)\n",
    "sentence_nlp = nlp(sentence)\n"
   ]
  },
  {
   "cell_type": "code",
   "execution_count": 35,
   "metadata": {},
   "outputs": [
    {
     "data": {
      "text/html": [
       "<div>\n",
       "<style scoped>\n",
       "    .dataframe tbody tr th:only-of-type {\n",
       "        vertical-align: middle;\n",
       "    }\n",
       "\n",
       "    .dataframe tbody tr th {\n",
       "        vertical-align: top;\n",
       "    }\n",
       "\n",
       "    .dataframe thead th {\n",
       "        text-align: right;\n",
       "    }\n",
       "</style>\n",
       "<table border=\"1\" class=\"dataframe\">\n",
       "  <thead>\n",
       "    <tr style=\"text-align: right;\">\n",
       "      <th></th>\n",
       "      <th>Word</th>\n",
       "      <th>POS tag</th>\n",
       "      <th>Tag type</th>\n",
       "    </tr>\n",
       "  </thead>\n",
       "  <tbody>\n",
       "    <tr>\n",
       "      <td>0</td>\n",
       "      <td>New</td>\n",
       "      <td>JJ</td>\n",
       "      <td>ADJ</td>\n",
       "    </tr>\n",
       "    <tr>\n",
       "      <td>1</td>\n",
       "      <td>coronavirus</td>\n",
       "      <td>NN</td>\n",
       "      <td>NOUN</td>\n",
       "    </tr>\n",
       "    <tr>\n",
       "      <td>2</td>\n",
       "      <td>variant</td>\n",
       "      <td>NN</td>\n",
       "      <td>NOUN</td>\n",
       "    </tr>\n",
       "    <tr>\n",
       "      <td>3</td>\n",
       "      <td>found</td>\n",
       "      <td>VBN</td>\n",
       "      <td>VERB</td>\n",
       "    </tr>\n",
       "    <tr>\n",
       "      <td>4</td>\n",
       "      <td>in</td>\n",
       "      <td>IN</td>\n",
       "      <td>ADP</td>\n",
       "    </tr>\n",
       "    <tr>\n",
       "      <td>5</td>\n",
       "      <td>France</td>\n",
       "      <td>NNP</td>\n",
       "      <td>PROPN</td>\n",
       "    </tr>\n",
       "  </tbody>\n",
       "</table>\n",
       "</div>"
      ],
      "text/plain": [
       "          Word POS tag Tag type\n",
       "0          New      JJ      ADJ\n",
       "1  coronavirus      NN     NOUN\n",
       "2      variant      NN     NOUN\n",
       "3        found     VBN     VERB\n",
       "4           in      IN      ADP\n",
       "5       France     NNP    PROPN"
      ]
     },
     "execution_count": 35,
     "metadata": {},
     "output_type": "execute_result"
    }
   ],
   "source": [
    "## part of speech for single sentence\n",
    "spacy_pos_tagged = [(word , word.tag_ , word.pos_) for word in sentence_nlp]\n",
    "pd.DataFrame(spacy_pos_tagged ,columns = ['Word' , 'POS tag' , 'Tag type'])"
   ]
  },
  {
   "cell_type": "code",
   "execution_count": 36,
   "metadata": {},
   "outputs": [],
   "source": [
    "### same thing we can do with nltk"
   ]
  },
  {
   "cell_type": "code",
   "execution_count": 37,
   "metadata": {},
   "outputs": [],
   "source": [
    "nltk_pos_tagged = nltk.pos_tag(sentence.split())"
   ]
  },
  {
   "cell_type": "code",
   "execution_count": 38,
   "metadata": {},
   "outputs": [
    {
     "data": {
      "text/html": [
       "<div>\n",
       "<style scoped>\n",
       "    .dataframe tbody tr th:only-of-type {\n",
       "        vertical-align: middle;\n",
       "    }\n",
       "\n",
       "    .dataframe tbody tr th {\n",
       "        vertical-align: top;\n",
       "    }\n",
       "\n",
       "    .dataframe thead th {\n",
       "        text-align: right;\n",
       "    }\n",
       "</style>\n",
       "<table border=\"1\" class=\"dataframe\">\n",
       "  <thead>\n",
       "    <tr style=\"text-align: right;\">\n",
       "      <th></th>\n",
       "      <th>Word</th>\n",
       "      <th>POS tag</th>\n",
       "    </tr>\n",
       "  </thead>\n",
       "  <tbody>\n",
       "    <tr>\n",
       "      <td>0</td>\n",
       "      <td>New</td>\n",
       "      <td>NNP</td>\n",
       "    </tr>\n",
       "    <tr>\n",
       "      <td>1</td>\n",
       "      <td>coronavirus</td>\n",
       "      <td>NN</td>\n",
       "    </tr>\n",
       "    <tr>\n",
       "      <td>2</td>\n",
       "      <td>variant</td>\n",
       "      <td>NN</td>\n",
       "    </tr>\n",
       "    <tr>\n",
       "      <td>3</td>\n",
       "      <td>found</td>\n",
       "      <td>VBN</td>\n",
       "    </tr>\n",
       "    <tr>\n",
       "      <td>4</td>\n",
       "      <td>in</td>\n",
       "      <td>IN</td>\n",
       "    </tr>\n",
       "    <tr>\n",
       "      <td>5</td>\n",
       "      <td>France</td>\n",
       "      <td>NNP</td>\n",
       "    </tr>\n",
       "  </tbody>\n",
       "</table>\n",
       "</div>"
      ],
      "text/plain": [
       "          Word POS tag\n",
       "0          New     NNP\n",
       "1  coronavirus      NN\n",
       "2      variant      NN\n",
       "3        found     VBN\n",
       "4           in      IN\n",
       "5       France     NNP"
      ]
     },
     "execution_count": 38,
     "metadata": {},
     "output_type": "execute_result"
    }
   ],
   "source": [
    "pd.DataFrame(nltk_pos_tagged , columns = ['Word' , 'POS tag'])"
   ]
  },
  {
   "cell_type": "markdown",
   "metadata": {},
   "source": [
    "## Emotion and Sentiment Analysis"
   ]
  },
  {
   "cell_type": "code",
   "execution_count": 39,
   "metadata": {},
   "outputs": [],
   "source": [
    "from afinn import Afinn"
   ]
  },
  {
   "cell_type": "code",
   "execution_count": 40,
   "metadata": {},
   "outputs": [],
   "source": [
    "af = Afinn()"
   ]
  },
  {
   "cell_type": "code",
   "execution_count": 41,
   "metadata": {},
   "outputs": [],
   "source": [
    "sentiment_score = [af.score(article) for article in corpus]"
   ]
  },
  {
   "cell_type": "code",
   "execution_count": 42,
   "metadata": {},
   "outputs": [
    {
     "data": {
      "text/plain": [
       "[-4.0,\n",
       " 0.0,\n",
       " -3.0,\n",
       " -11.0,\n",
       " -13.0,\n",
       " 6.0,\n",
       " -1.0,\n",
       " -1.0,\n",
       " -6.0,\n",
       " -3.0,\n",
       " -16.0,\n",
       " -4.0,\n",
       " 2.0,\n",
       " -1.0,\n",
       " -6.0,\n",
       " -7.0,\n",
       " -10.0,\n",
       " 5.0,\n",
       " -20.0,\n",
       " -26.0,\n",
       " 1.0,\n",
       " 8.0,\n",
       " 0.0,\n",
       " -7.0,\n",
       " -7.0,\n",
       " 5.0,\n",
       " 6.0,\n",
       " 6.0,\n",
       " 5.0,\n",
       " 4.0,\n",
       " 0.0,\n",
       " -7.0,\n",
       " 3.0,\n",
       " 11.0,\n",
       " 4.0,\n",
       " 4.0,\n",
       " 6.0,\n",
       " -1.0,\n",
       " 11.0,\n",
       " 0.0,\n",
       " 10.0,\n",
       " 8.0,\n",
       " -1.0,\n",
       " 1.0,\n",
       " 5.0,\n",
       " -4.0,\n",
       " 4.0,\n",
       " 0.0,\n",
       " 9.0,\n",
       " 11.0,\n",
       " 4.0,\n",
       " 0.0,\n",
       " 6.0,\n",
       " -4.0,\n",
       " -4.0,\n",
       " -4.0,\n",
       " 0.0,\n",
       " 9.0,\n",
       " 9.0,\n",
       " -4.0,\n",
       " 6.0,\n",
       " -1.0,\n",
       " -4.0,\n",
       " -4.0,\n",
       " 0.0,\n",
       " -2.0,\n",
       " 4.0,\n",
       " -4.0,\n",
       " 7.0,\n",
       " 3.0,\n",
       " -1.0,\n",
       " 0.0,\n",
       " -3.0,\n",
       " 10.0,\n",
       " -6.0,\n",
       " -26.0,\n",
       " 3.0,\n",
       " 3.0,\n",
       " -6.0,\n",
       " 5.0,\n",
       " 2.0,\n",
       " 4.0,\n",
       " -1.0,\n",
       " 0.0,\n",
       " -10.0,\n",
       " 5.0,\n",
       " -1.0]"
      ]
     },
     "execution_count": 42,
     "metadata": {},
     "output_type": "execute_result"
    }
   ],
   "source": [
    "sentiment_score"
   ]
  },
  {
   "cell_type": "code",
   "execution_count": 43,
   "metadata": {},
   "outputs": [],
   "source": [
    "## creating the sentiment category \n",
    "sentiment_category = ['posetive' if score >0\n",
    "                      else 'negative'  if score <0\n",
    "                        else 'neutral'\n",
    "                      for score in sentiment_score]"
   ]
  },
  {
   "cell_type": "code",
   "execution_count": 44,
   "metadata": {},
   "outputs": [],
   "source": [
    "df = pd.DataFrame([list(news_df['news_category']) ,sentiment_score , sentiment_category]).T"
   ]
  },
  {
   "cell_type": "code",
   "execution_count": 45,
   "metadata": {},
   "outputs": [
    {
     "data": {
      "text/html": [
       "<div>\n",
       "<style scoped>\n",
       "    .dataframe tbody tr th:only-of-type {\n",
       "        vertical-align: middle;\n",
       "    }\n",
       "\n",
       "    .dataframe tbody tr th {\n",
       "        vertical-align: top;\n",
       "    }\n",
       "\n",
       "    .dataframe thead th {\n",
       "        text-align: right;\n",
       "    }\n",
       "</style>\n",
       "<table border=\"1\" class=\"dataframe\">\n",
       "  <thead>\n",
       "    <tr style=\"text-align: right;\">\n",
       "      <th></th>\n",
       "      <th>0</th>\n",
       "      <th>1</th>\n",
       "      <th>2</th>\n",
       "    </tr>\n",
       "  </thead>\n",
       "  <tbody>\n",
       "    <tr>\n",
       "      <td>0</td>\n",
       "      <td>world</td>\n",
       "      <td>-4</td>\n",
       "      <td>negative</td>\n",
       "    </tr>\n",
       "    <tr>\n",
       "      <td>1</td>\n",
       "      <td>world</td>\n",
       "      <td>0</td>\n",
       "      <td>neutral</td>\n",
       "    </tr>\n",
       "    <tr>\n",
       "      <td>2</td>\n",
       "      <td>world</td>\n",
       "      <td>-3</td>\n",
       "      <td>negative</td>\n",
       "    </tr>\n",
       "    <tr>\n",
       "      <td>3</td>\n",
       "      <td>world</td>\n",
       "      <td>-11</td>\n",
       "      <td>negative</td>\n",
       "    </tr>\n",
       "    <tr>\n",
       "      <td>4</td>\n",
       "      <td>world</td>\n",
       "      <td>-13</td>\n",
       "      <td>negative</td>\n",
       "    </tr>\n",
       "    <tr>\n",
       "      <td>...</td>\n",
       "      <td>...</td>\n",
       "      <td>...</td>\n",
       "      <td>...</td>\n",
       "    </tr>\n",
       "    <tr>\n",
       "      <td>82</td>\n",
       "      <td>business</td>\n",
       "      <td>-1</td>\n",
       "      <td>negative</td>\n",
       "    </tr>\n",
       "    <tr>\n",
       "      <td>83</td>\n",
       "      <td>business</td>\n",
       "      <td>0</td>\n",
       "      <td>neutral</td>\n",
       "    </tr>\n",
       "    <tr>\n",
       "      <td>84</td>\n",
       "      <td>business</td>\n",
       "      <td>-10</td>\n",
       "      <td>negative</td>\n",
       "    </tr>\n",
       "    <tr>\n",
       "      <td>85</td>\n",
       "      <td>business</td>\n",
       "      <td>5</td>\n",
       "      <td>posetive</td>\n",
       "    </tr>\n",
       "    <tr>\n",
       "      <td>86</td>\n",
       "      <td>business</td>\n",
       "      <td>-1</td>\n",
       "      <td>negative</td>\n",
       "    </tr>\n",
       "  </tbody>\n",
       "</table>\n",
       "<p>87 rows × 3 columns</p>\n",
       "</div>"
      ],
      "text/plain": [
       "           0   1         2\n",
       "0      world  -4  negative\n",
       "1      world   0   neutral\n",
       "2      world  -3  negative\n",
       "3      world -11  negative\n",
       "4      world -13  negative\n",
       "..       ...  ..       ...\n",
       "82  business  -1  negative\n",
       "83  business   0   neutral\n",
       "84  business -10  negative\n",
       "85  business   5  posetive\n",
       "86  business  -1  negative\n",
       "\n",
       "[87 rows x 3 columns]"
      ]
     },
     "execution_count": 45,
     "metadata": {},
     "output_type": "execute_result"
    }
   ],
   "source": [
    "df"
   ]
  },
  {
   "cell_type": "code",
   "execution_count": 46,
   "metadata": {},
   "outputs": [],
   "source": [
    "df.columns = ['news_category' , 'sentiment_score' , 'sentiment_category']"
   ]
  },
  {
   "cell_type": "code",
   "execution_count": 47,
   "metadata": {},
   "outputs": [
    {
     "data": {
      "text/html": [
       "<div>\n",
       "<style scoped>\n",
       "    .dataframe tbody tr th:only-of-type {\n",
       "        vertical-align: middle;\n",
       "    }\n",
       "\n",
       "    .dataframe tbody tr th {\n",
       "        vertical-align: top;\n",
       "    }\n",
       "\n",
       "    .dataframe thead th {\n",
       "        text-align: right;\n",
       "    }\n",
       "</style>\n",
       "<table border=\"1\" class=\"dataframe\">\n",
       "  <thead>\n",
       "    <tr style=\"text-align: right;\">\n",
       "      <th></th>\n",
       "      <th>news_category</th>\n",
       "      <th>sentiment_score</th>\n",
       "      <th>sentiment_category</th>\n",
       "    </tr>\n",
       "  </thead>\n",
       "  <tbody>\n",
       "    <tr>\n",
       "      <td>0</td>\n",
       "      <td>world</td>\n",
       "      <td>-4</td>\n",
       "      <td>negative</td>\n",
       "    </tr>\n",
       "    <tr>\n",
       "      <td>1</td>\n",
       "      <td>world</td>\n",
       "      <td>0</td>\n",
       "      <td>neutral</td>\n",
       "    </tr>\n",
       "    <tr>\n",
       "      <td>2</td>\n",
       "      <td>world</td>\n",
       "      <td>-3</td>\n",
       "      <td>negative</td>\n",
       "    </tr>\n",
       "    <tr>\n",
       "      <td>3</td>\n",
       "      <td>world</td>\n",
       "      <td>-11</td>\n",
       "      <td>negative</td>\n",
       "    </tr>\n",
       "    <tr>\n",
       "      <td>4</td>\n",
       "      <td>world</td>\n",
       "      <td>-13</td>\n",
       "      <td>negative</td>\n",
       "    </tr>\n",
       "    <tr>\n",
       "      <td>...</td>\n",
       "      <td>...</td>\n",
       "      <td>...</td>\n",
       "      <td>...</td>\n",
       "    </tr>\n",
       "    <tr>\n",
       "      <td>82</td>\n",
       "      <td>business</td>\n",
       "      <td>-1</td>\n",
       "      <td>negative</td>\n",
       "    </tr>\n",
       "    <tr>\n",
       "      <td>83</td>\n",
       "      <td>business</td>\n",
       "      <td>0</td>\n",
       "      <td>neutral</td>\n",
       "    </tr>\n",
       "    <tr>\n",
       "      <td>84</td>\n",
       "      <td>business</td>\n",
       "      <td>-10</td>\n",
       "      <td>negative</td>\n",
       "    </tr>\n",
       "    <tr>\n",
       "      <td>85</td>\n",
       "      <td>business</td>\n",
       "      <td>5</td>\n",
       "      <td>posetive</td>\n",
       "    </tr>\n",
       "    <tr>\n",
       "      <td>86</td>\n",
       "      <td>business</td>\n",
       "      <td>-1</td>\n",
       "      <td>negative</td>\n",
       "    </tr>\n",
       "  </tbody>\n",
       "</table>\n",
       "<p>87 rows × 3 columns</p>\n",
       "</div>"
      ],
      "text/plain": [
       "   news_category sentiment_score sentiment_category\n",
       "0          world              -4           negative\n",
       "1          world               0            neutral\n",
       "2          world              -3           negative\n",
       "3          world             -11           negative\n",
       "4          world             -13           negative\n",
       "..           ...             ...                ...\n",
       "82      business              -1           negative\n",
       "83      business               0            neutral\n",
       "84      business             -10           negative\n",
       "85      business               5           posetive\n",
       "86      business              -1           negative\n",
       "\n",
       "[87 rows x 3 columns]"
      ]
     },
     "execution_count": 47,
     "metadata": {},
     "output_type": "execute_result"
    }
   ],
   "source": [
    "df"
   ]
  },
  {
   "cell_type": "code",
   "execution_count": 48,
   "metadata": {},
   "outputs": [],
   "source": [
    "df['sentiment_score']  = df.sentiment_score.astype('float')"
   ]
  },
  {
   "cell_type": "code",
   "execution_count": 49,
   "metadata": {
    "scrolled": true
   },
   "outputs": [
    {
     "data": {
      "text/html": [
       "<div>\n",
       "<style scoped>\n",
       "    .dataframe tbody tr th:only-of-type {\n",
       "        vertical-align: middle;\n",
       "    }\n",
       "\n",
       "    .dataframe tbody tr th {\n",
       "        vertical-align: top;\n",
       "    }\n",
       "\n",
       "    .dataframe thead tr th {\n",
       "        text-align: left;\n",
       "    }\n",
       "\n",
       "    .dataframe thead tr:last-of-type th {\n",
       "        text-align: right;\n",
       "    }\n",
       "</style>\n",
       "<table border=\"1\" class=\"dataframe\">\n",
       "  <thead>\n",
       "    <tr>\n",
       "      <th></th>\n",
       "      <th colspan=\"8\" halign=\"left\">sentiment_score</th>\n",
       "    </tr>\n",
       "    <tr>\n",
       "      <th></th>\n",
       "      <th>count</th>\n",
       "      <th>mean</th>\n",
       "      <th>std</th>\n",
       "      <th>min</th>\n",
       "      <th>25%</th>\n",
       "      <th>50%</th>\n",
       "      <th>75%</th>\n",
       "      <th>max</th>\n",
       "    </tr>\n",
       "    <tr>\n",
       "      <th>news_category</th>\n",
       "      <th></th>\n",
       "      <th></th>\n",
       "      <th></th>\n",
       "      <th></th>\n",
       "      <th></th>\n",
       "      <th></th>\n",
       "      <th></th>\n",
       "      <th></th>\n",
       "    </tr>\n",
       "  </thead>\n",
       "  <tbody>\n",
       "    <tr>\n",
       "      <td>business</td>\n",
       "      <td>25.0</td>\n",
       "      <td>-0.880000</td>\n",
       "      <td>6.936137</td>\n",
       "      <td>-26.0</td>\n",
       "      <td>-4.00</td>\n",
       "      <td>0.0</td>\n",
       "      <td>3.0</td>\n",
       "      <td>10.0</td>\n",
       "    </tr>\n",
       "    <tr>\n",
       "      <td>india</td>\n",
       "      <td>12.0</td>\n",
       "      <td>3.916667</td>\n",
       "      <td>4.273775</td>\n",
       "      <td>-7.0</td>\n",
       "      <td>3.75</td>\n",
       "      <td>4.5</td>\n",
       "      <td>6.0</td>\n",
       "      <td>11.0</td>\n",
       "    </tr>\n",
       "    <tr>\n",
       "      <td>sports</td>\n",
       "      <td>25.0</td>\n",
       "      <td>2.800000</td>\n",
       "      <td>5.267827</td>\n",
       "      <td>-4.0</td>\n",
       "      <td>-1.00</td>\n",
       "      <td>1.0</td>\n",
       "      <td>8.0</td>\n",
       "      <td>11.0</td>\n",
       "    </tr>\n",
       "    <tr>\n",
       "      <td>world</td>\n",
       "      <td>25.0</td>\n",
       "      <td>-4.960000</td>\n",
       "      <td>7.929271</td>\n",
       "      <td>-26.0</td>\n",
       "      <td>-7.00</td>\n",
       "      <td>-4.0</td>\n",
       "      <td>0.0</td>\n",
       "      <td>8.0</td>\n",
       "    </tr>\n",
       "  </tbody>\n",
       "</table>\n",
       "</div>"
      ],
      "text/plain": [
       "              sentiment_score                                                \n",
       "                        count      mean       std   min   25%  50%  75%   max\n",
       "news_category                                                                \n",
       "business                 25.0 -0.880000  6.936137 -26.0 -4.00  0.0  3.0  10.0\n",
       "india                    12.0  3.916667  4.273775  -7.0  3.75  4.5  6.0  11.0\n",
       "sports                   25.0  2.800000  5.267827  -4.0 -1.00  1.0  8.0  11.0\n",
       "world                    25.0 -4.960000  7.929271 -26.0 -7.00 -4.0  0.0   8.0"
      ]
     },
     "execution_count": 49,
     "metadata": {},
     "output_type": "execute_result"
    }
   ],
   "source": [
    "df.groupby(by = ['news_category']).describe()"
   ]
  },
  {
   "cell_type": "code",
   "execution_count": 50,
   "metadata": {},
   "outputs": [
    {
     "data": {
      "image/png": "[encoded data removed]",
      "text/plain": [
       "<Figure size 1008x432 with 2 Axes>"
      ]
     },
     "metadata": {
      "needs_background": "light"
     },
     "output_type": "display_data"
    }
   ],
   "source": [
    "fig , (ax1 ,ax2) = plt.subplots(1,2 , figsize = (14,6))\n",
    "sp  = sns.stripplot(x = 'news_category' , y = 'sentiment_score' , hue = 'news_category' , data = df , ax = ax1 )\n",
    "bp  = sns.boxplot(x = 'news_category'  , y = 'sentiment_score' ,  hue = 'news_category'  , data = df , palette = 'Set2' , ax =ax2 )\n",
    "t = fig.suptitle('Visualizing News Sentiment' , fontsize =14)\n"
   ]
  },
  {
   "cell_type": "code",
   "execution_count": 51,
   "metadata": {},
   "outputs": [],
   "source": [
    "## here we can see  world has mostly  the negative news  , india has mostly the posetive news  \n",
    "#, bussiness on the other hand is neutral "
   ]
  },
  {
   "cell_type": "code",
   "execution_count": 52,
   "metadata": {},
   "outputs": [
    {
     "name": "stderr",
     "output_type": "stream",
     "text": [
      "C:\\ProgramData\\Anaconda3\\lib\\site-packages\\seaborn\\categorical.py:3666: UserWarning: The `factorplot` function has been renamed to `catplot`. The original name will be removed in a future release. Please update your code. Note that the default `kind` in `factorplot` (`'point'`) has changed `'strip'` in `catplot`.\n",
      "  warnings.warn(msg)\n"
     ]
    },
    {
     "data": {
      "image/png": "[encoded data removed]",
      "text/plain": [
       "<Figure size 457.675x360 with 1 Axes>"
      ]
     },
     "metadata": {
      "needs_background": "light"
     },
     "output_type": "display_data"
    }
   ],
   "source": [
    "fc = sns.factorplot(x = 'news_category' , hue = 'sentiment_category', \n",
    "                    data =df  , kind = 'count' ) \n",
    "plt.show()"
   ]
  },
  {
   "cell_type": "code",
   "execution_count": 53,
   "metadata": {},
   "outputs": [
    {
     "name": "stdout",
     "output_type": "stream",
     "text": [
      "Most negative world news article : Over 20 countries have suspended the use of AstraZeneca's COVID-19 vaccine over fears the shot may have caused blood clots in some recipients. Sweden and Latvia on Tuesday became the latest nations to halt the rollout. Other countries include: Germany, Italy, France, Spain, Denmark, Norway, Luxembourg, Cyprus, Portugal, Slovenia, Indonesia, Ireland, Bulgaria, Congo, Thailand, Romania and Austria.\n",
      "\n",
      "Most posetive world news article : China has said it'll be donating 3,00,000 coronavirus vaccine doses to UN peacekeepers, with \"priority given to the peacekeeping missions in Africa\". \"This is a further step to make China's vaccines a global public good and also a demonstration of China's...continuous support to the UN and multilateralism,\" it added. Last month, India pledged two lakh vaccine doses for UN peacekeepers. \n"
     ]
    }
   ],
   "source": [
    "pos_idx = df[(df.news_category == 'world') & (df.sentiment_score>0.)].index[0]\n",
    "neg_idx = df[(df.news_category == 'world') & (df.sentiment_score<-0.)].index[0]\n",
    "\n",
    "print('Most negative world news article :' , news_df.iloc[neg_idx][['news_article']][0])\n",
    "print()\n",
    "\n",
    "print('Most posetive world news article :' , news_df.iloc[pos_idx][['news_article']][0])"
   ]
  },
  {
   "cell_type": "code",
   "execution_count": 54,
   "metadata": {},
   "outputs": [],
   "source": [
    "## for india we can  do the same "
   ]
  },
  {
   "cell_type": "code",
   "execution_count": 57,
   "metadata": {},
   "outputs": [
    {
     "name": "stdout",
     "output_type": "stream",
     "text": [
      "Most negative business news article : Mahindra Group Chairman Anand Mahindra took to Twitter to voice his concern about the rising COVID-19 cases in Maharashtra and said, \"Maharashtra needs emergency permission to vaccinate every willing person.\" \"The state is the nerve-centre of the country's economic activity and more lockdowns will be debilitating,\" he added. The state recorded over 16,000 cases on Sunday, the highest this year.\n",
      "\n",
      "Most posetive business news article : Railways Minister Piyush Goyal on Tuesday said in the Lok Sabha that Indian Railways will never be privatised. \"It is a property of every Indian and will remain so,\" he said, adding that it will remain with the Government of India. However, he also said that private investment in Railways should be welcomed as it will improve services.\n"
     ]
    }
   ],
   "source": [
    "pos_idx = df[(df.news_category =='business')&(df.sentiment_score >0.)].index[0]\n",
    "neg_idx = df[(df.news_category =='business')&(df.sentiment_score <-0.)].index[0]\n",
    "\n",
    "print('Most negative business news article :' , news_df.iloc[neg_idx][['news_article']][0])\n",
    "print()\n",
    "\n",
    "print('Most posetive business news article :' , news_df.iloc[pos_idx][['news_article']][0])"
   ]
  },
  {
   "cell_type": "code",
   "execution_count": 58,
   "metadata": {},
   "outputs": [
    {
     "name": "stdout",
     "output_type": "stream",
     "text": [
      "Most negative indian news article : Only a week before Delhi Assembly polls, Aam Aadmi Party on Tuesday dropped its candidate, PS Saluja, from Rajouri Garden constituency after finding a criminal case against him. AAP said that since last date for withdrawal of names was over, so \"Saluja can't be withdrawn officially, but he’s not a party candidate anymore and we are leaving the seat vacant\".\n",
      "\n",
      "Most posetive indian news article : Afghanistan won their maiden-SAFF Football Championship after defeating India 2-0 in the finals at Kathmandu and spoilt India's bid to win a hat-trick of SAFF-trophies. Mustafa Azadzoy(8th-minute) and Sanjar Ahmadi(63rd-minute) scored goals for Afghans, who lost championship to India 0-4 in New Delhi two-years back. From Indian-side, Robin Singh and Jeje Lalpeklhua were praiseworthy but couldn't save India from defeat.\n"
     ]
    }
   ],
   "source": [
    "pos_idx = df[(df.news_category =='india')&(df.sentiment_score >0.)].index[0]\n",
    "neg_idx = df[(df.news_category =='india')&(df.sentiment_score <-0.)].index[0]\n",
    "\n",
    "print('Most negative indian news article :' , news_df.iloc[neg_idx][['news_article']][0])\n",
    "print()\n",
    "\n",
    "print('Most posetive indian news article :' , news_df.iloc[pos_idx][['news_article']][0])"
   ]
  },
  {
   "cell_type": "code",
   "execution_count": null,
   "metadata": {},
   "outputs": [],
   "source": []
  },
  {
   "cell_type": "code",
   "execution_count": null,
   "metadata": {},
   "outputs": [],
   "source": []
  },
  {
   "cell_type": "code",
   "execution_count": null,
   "metadata": {},
   "outputs": [],
   "source": []
  },
  {
   "cell_type": "code",
   "execution_count": null,
   "metadata": {},
   "outputs": [],
   "source": []
  },
  {
   "cell_type": "code",
   "execution_count": null,
   "metadata": {},
   "outputs": [],
   "source": []
  },
  {
   "cell_type": "code",
   "execution_count": null,
   "metadata": {},
   "outputs": [],
   "source": []
  }
 ],
 "metadata": {
  "kernelspec": {
   "display_name": "Python 3",
   "language": "python",
   "name": "python3"
  },
  "language_info": {
   "codemirror_mode": {
    "name": "ipython",
    "version": 3
   },
   "file_extension": ".py",
   "mimetype": "text/x-python",
   "name": "python",
   "nbconvert_exporter": "python",
   "pygments_lexer": "ipython3",
   "version": "3.7.4"
  }
 },
 "nbformat": 4,
 "nbformat_minor": 2
}
